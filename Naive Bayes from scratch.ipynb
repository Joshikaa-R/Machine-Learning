{
  "cells": [
    {
      "metadata": {
        "_uuid": "58f1a01207d95d673b6b1d13f2883e824de1a0f2"
      },
      "cell_type": "markdown",
      "source": "Naive bayes algorithm implementation from scratch\n"
    },
    {
      "metadata": {
        "_uuid": "8b5f96b7f7e6acdf9099fb6c3512d68ddd1670f4"
      },
      "cell_type": "markdown",
      "source": "Dataset used: https://www.kaggle.com/HRAnalyticRepository/job-classification-dataset"
    },
    {
      "metadata": {
        "_cell_guid": "79c7e3d0-c299-4dcb-8224-4455121ee9b0",
        "_uuid": "d629ff2d2480ee46fbb7e2d37f6b5fab8052498a",
        "trusted": true
      },
      "cell_type": "code",
      "source": "#libraries used\nimport pandas as pd\nimport numpy as np\nimport math\nfrom sklearn import preprocessing\nimport scipy.stats\nfrom matplotlib.pyplot import plot",
      "execution_count": 3,
      "outputs": []
    },
    {
      "metadata": {
        "trusted": true,
        "_uuid": "e7fa11df0e13429870966be6596815b0526dc14a"
      },
      "cell_type": "code",
      "source": "#naive bayes implementation\ndef naive_bayes(data,feature_pred,type_of_data):\n        names=list(data)\n        no_of_features=data.shape[1]-1\n        no_of_train_examples=data.shape[0]\n        target=data.iloc[:,-1]\n        uniq_class=target.unique()\n        d = list(data.groupby(target))\n        no_of_class=len(uniq_class)\n        count = np.empty((0,no_of_class), int)\n        for i in range(len(d)): count=np.append(count,len(d[i][1]),axis=None)\n        target_prob = data.groupby(target).size().div(len(data))\n        likelihood=1\n        probability=np.array([])\n        for k in range (no_of_class):\n            for i in range(no_of_features):\n                if(type_of_data[i]=='continuous'):\n                        mean=np.mean(d[k][1])[i]\n                        stdev=np.std(d[k][1])[i]\n                        likelihood=likelihood*scipy.stats.norm(mean,stdev).pdf(int(feature_pred[i]))\n                if(type_of_data[i]=='discrete'): \n                        temp=sum((d[k][1].iloc[:,i]).astype(np.object)==(feature_pred[i]))\n                        if(temp==0): \n                            data=data.append({names[i]: feature_pred[i],names[-1]:uniq_class[k-1]}, ignore_index=True)\n                            no_of_features=data.shape[1]-1\n                            no_of_train_examples=data.shape[0]\n                            target=data.iloc[:,-1]\n                            uniq_class=target.unique()\n                            d = list(data.groupby(target))\n                            no_of_class=len(uniq_class)\n                            count = np.empty((0,no_of_class), int)\n                            for i in range(len(d)): count=np.append(count,len(d[i][1]),axis=None)\n                            target_prob = data.groupby(target).size().div(len(data))\n                            i=i-1\n                            continue;\n                        likelihood=likelihood*(temp/count[k])\n            probability=np.append(probability,(likelihood*target_prob[k]))\n            likelihood=1      \n        total=sum(probability)\n        probability_percentage=(probability/total)*100\n        high_probability=max(probability_percentage)\n        high_probability_index=list(probability_percentage).index(max(probability_percentage))\n        return(probability_percentage,high_probability,uniq_class[high_probability_index])",
      "execution_count": 22,
      "outputs": []
    },
    {
      "metadata": {
        "trusted": true,
        "_uuid": "22ce142081bf9ed7575871a74a51c273aa2d5150"
      },
      "cell_type": "code",
      "source": "#data Set\ndata=pd.read_csv(\"../input/jobclassinfo2.csv\")\ndata=data.drop(['ID'],axis=1)\ndata.head(5)",
      "execution_count": 50,
      "outputs": [
        {
          "output_type": "execute_result",
          "execution_count": 50,
          "data": {
            "text/plain": "   JobFamily    JobFamilyDescription  ...   FinancialBudget    PG\n0          1  Accounting And Finance  ...                 5  PG05\n1          1  Accounting And Finance  ...                 7  PG06\n2          1  Accounting And Finance  ...                10  PG08\n3          1  Accounting And Finance  ...                11  PG10\n4          2  Administrative Support  ...                 1  PG01\n\n[5 rows x 13 columns]",
            "text/html": "<div>\n<style scoped>\n    .dataframe tbody tr th:only-of-type {\n        vertical-align: middle;\n    }\n\n    .dataframe tbody tr th {\n        vertical-align: top;\n    }\n\n    .dataframe thead th {\n        text-align: right;\n    }\n</style>\n<table border=\"1\" class=\"dataframe\">\n  <thead>\n    <tr style=\"text-align: right;\">\n      <th></th>\n      <th>JobFamily</th>\n      <th>JobFamilyDescription</th>\n      <th>JobClass</th>\n      <th>JobClassDescription</th>\n      <th>PayGrade</th>\n      <th>EducationLevel</th>\n      <th>Experience</th>\n      <th>OrgImpact</th>\n      <th>ProblemSolving</th>\n      <th>Supervision</th>\n      <th>ContactLevel</th>\n      <th>FinancialBudget</th>\n      <th>PG</th>\n    </tr>\n  </thead>\n  <tbody>\n    <tr>\n      <th>0</th>\n      <td>1</td>\n      <td>Accounting And Finance</td>\n      <td>1</td>\n      <td>Accountant I</td>\n      <td>5</td>\n      <td>3</td>\n      <td>1</td>\n      <td>3</td>\n      <td>3</td>\n      <td>4</td>\n      <td>3</td>\n      <td>5</td>\n      <td>PG05</td>\n    </tr>\n    <tr>\n      <th>1</th>\n      <td>1</td>\n      <td>Accounting And Finance</td>\n      <td>2</td>\n      <td>Accountant II</td>\n      <td>6</td>\n      <td>4</td>\n      <td>1</td>\n      <td>5</td>\n      <td>4</td>\n      <td>5</td>\n      <td>7</td>\n      <td>7</td>\n      <td>PG06</td>\n    </tr>\n    <tr>\n      <th>2</th>\n      <td>1</td>\n      <td>Accounting And Finance</td>\n      <td>3</td>\n      <td>Accountant III</td>\n      <td>8</td>\n      <td>4</td>\n      <td>2</td>\n      <td>6</td>\n      <td>5</td>\n      <td>6</td>\n      <td>7</td>\n      <td>10</td>\n      <td>PG08</td>\n    </tr>\n    <tr>\n      <th>3</th>\n      <td>1</td>\n      <td>Accounting And Finance</td>\n      <td>4</td>\n      <td>Accountant IV</td>\n      <td>10</td>\n      <td>5</td>\n      <td>5</td>\n      <td>6</td>\n      <td>6</td>\n      <td>7</td>\n      <td>8</td>\n      <td>11</td>\n      <td>PG10</td>\n    </tr>\n    <tr>\n      <th>4</th>\n      <td>2</td>\n      <td>Administrative Support</td>\n      <td>5</td>\n      <td>Admin Support I</td>\n      <td>1</td>\n      <td>1</td>\n      <td>0</td>\n      <td>1</td>\n      <td>1</td>\n      <td>1</td>\n      <td>1</td>\n      <td>1</td>\n      <td>PG01</td>\n    </tr>\n  </tbody>\n</table>\n</div>"
          },
          "metadata": {}
        }
      ]
    },
    {
      "metadata": {
        "trusted": true,
        "_uuid": "56d3391183e7ff9664c90f81aa83a6698eb97071"
      },
      "cell_type": "code",
      "source": "#sample test data\nfeature_pred=np.array([4,'Buildings And Facilities',47,'Maintenance Services IV',5,3,2,3,4,5,8,4])\n\n#array consisting of data type of each feature vector\ntype_of_data=np.array(['discrete','discrete','discrete','discrete','discrete','discrete','discrete','discrete','discrete','discrete','discrete','discrete'])\n\n#function call \nprobability,prediction_probability,prediction=naive_bayes(data,feature_pred,type_of_data)",
      "execution_count": 51,
      "outputs": []
    },
    {
      "metadata": {
        "trusted": true,
        "_uuid": "bdd934d5858707dc08beb51a34bf1385bbf4de52"
      },
      "cell_type": "code",
      "source": "#Class labels list\nlabels=data.iloc[:,-1]\nlabels.unique()",
      "execution_count": 61,
      "outputs": [
        {
          "output_type": "execute_result",
          "execution_count": 61,
          "data": {
            "text/plain": "array(['PG05', 'PG06', 'PG08', 'PG10', 'PG01', 'PG02', 'PG03', 'PG04',\n       'PG09', 'PG07'], dtype=object)"
          },
          "metadata": {}
        }
      ]
    },
    {
      "metadata": {
        "trusted": true,
        "_uuid": "00941fc4bf2005cb2c3c81f1fc6446ba4620ddef"
      },
      "cell_type": "code",
      "source": "#probability for the test data to belong to each of the classes \nprobability",
      "execution_count": 62,
      "outputs": [
        {
          "output_type": "execute_result",
          "execution_count": 62,
          "data": {
            "text/plain": "array([3.58722319e+01, 1.57192926e+01, 1.39901704e+01, 1.26037571e+01,\n       1.37357757e-14, 1.96111233e-13, 7.16440646e-13, 3.49848432e-12,\n       1.13741223e+01, 1.04404257e+01])"
          },
          "metadata": {}
        }
      ]
    },
    {
      "metadata": {
        "trusted": true,
        "_uuid": "878e601eae2669c7ecded839e3b70fa31114366a"
      },
      "cell_type": "code",
      "source": "#prediction for the given test data\nprediction",
      "execution_count": 63,
      "outputs": [
        {
          "output_type": "execute_result",
          "execution_count": 63,
          "data": {
            "text/plain": "'PG05'"
          },
          "metadata": {}
        }
      ]
    },
    {
      "metadata": {
        "trusted": true,
        "_uuid": "e2960e6e05a05acd8de9a770c4d843b501c71333"
      },
      "cell_type": "code",
      "source": "#probability for the test data to belong to the predicted class\nprediction_probability",
      "execution_count": 64,
      "outputs": [
        {
          "output_type": "execute_result",
          "execution_count": 64,
          "data": {
            "text/plain": "35.87223185071498"
          },
          "metadata": {}
        }
      ]
    },
    {
      "metadata": {
        "trusted": true,
        "_uuid": "eb420138f3820b01539f3ec900d4fa15613e8c48"
      },
      "cell_type": "code",
      "source": "",
      "execution_count": null,
      "outputs": []
    }
  ],
  "metadata": {
    "kernelspec": {
      "display_name": "Python 3",
      "language": "python",
      "name": "python3"
    },
    "language_info": {
      "name": "python",
      "version": "3.6.6",
      "mimetype": "text/x-python",
      "codemirror_mode": {
        "name": "ipython",
        "version": 3
      },
      "pygments_lexer": "ipython3",
      "nbconvert_exporter": "python",
      "file_extension": ".py"
    }
  },
  "nbformat": 4,
  "nbformat_minor": 1
}